{
 "cells": [
  {
   "cell_type": "code",
   "execution_count": null,
   "metadata": {},
   "outputs": [],
   "source": [
    "for thread in range(0,20):\n",
    "    k = 0\n",
    "    prvi = (thread * pow(2, k-1)) + pow(2, k) - 1\n",
    "    drugi = (thread * pow(2, k-1)) + pow(2, k + 1) - 1\n",
    "    \n",
    "    print(\"Thread: \" + str(thread) + \" Prvi: \" + str(prvi) + \" Drugi: \" + str(drugi))"
   ]
  }
 ],
 "metadata": {
  "language_info": {
   "name": "python"
  }
 },
 "nbformat": 4,
 "nbformat_minor": 2
}
